{
 "cells": [
  {
   "cell_type": "code",
   "execution_count": 14,
   "metadata": {},
   "outputs": [
    {
     "name": "stdout",
     "output_type": "stream",
     "text": [
      "Answer is 232792560\n"
     ]
    }
   ],
   "source": [
    "#What is the smallest positive number that is evenly \n",
    "#divisible by all of the numbers from 1 to 20?\n",
    "nums = [7,8,9,10,11,13,14,16,17,18,19,20]\n",
    "for i in range(20,1000000000, 20):\n",
    "    if all(i % j == 0 for j in nums):\n",
    "        print (\"Answer is {0}\".format(i))\n",
    "        break"
   ]
  }
 ],
 "metadata": {
  "kernelspec": {
   "display_name": "Python 3",
   "language": "python",
   "name": "python3"
  },
  "language_info": {
   "codemirror_mode": {
    "name": "ipython",
    "version": 3
   },
   "file_extension": ".py",
   "mimetype": "text/x-python",
   "name": "python",
   "nbconvert_exporter": "python",
   "pygments_lexer": "ipython3",
   "version": "3.6.5"
  }
 },
 "nbformat": 4,
 "nbformat_minor": 2
}
