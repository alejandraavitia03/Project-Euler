{
 "cells": [
  {
   "cell_type": "code",
   "execution_count": 3,
   "metadata": {},
   "outputs": [
    {
     "name": "stdout",
     "output_type": "stream",
     "text": [
      "6857\n"
     ]
    }
   ],
   "source": [
    "import math\n",
    "\n",
    "num = 600851475143\n",
    "\n",
    "def largestPrimeFactor (num):\n",
    "    #maxPrime assigned  to the lowest one\n",
    "    maxPrime = -1\n",
    "    \n",
    "    #Num of 2's that divide num\n",
    "    while num % 2 == 0:\n",
    "        maxPrime = 2\n",
    "        num /= 2\n",
    "        \n",
    "    #Incase the number is a prime num bigger than 2\n",
    "    if num > 2:\n",
    "        maxPrime = num    \n",
    "    \n",
    "    #num has to be odd and skip the even numbers    \n",
    "    for i in range(3, int(math.sqrt(num)) + 1, 2):\n",
    "        while num % i == 0:\n",
    "            maxPrime = i\n",
    "            num  /= i\n",
    "            \n",
    "    return int(maxPrime)\n",
    "\n",
    "print(largestPrimeFactor(num))"
   ]
  }
 ],
 "metadata": {
  "kernelspec": {
   "display_name": "Python 3",
   "language": "python",
   "name": "python3"
  },
  "language_info": {
   "codemirror_mode": {
    "name": "ipython",
    "version": 3
   },
   "file_extension": ".py",
   "mimetype": "text/x-python",
   "name": "python",
   "nbconvert_exporter": "python",
   "pygments_lexer": "ipython3",
   "version": "3.6.5"
  }
 },
 "nbformat": 4,
 "nbformat_minor": 2
}
