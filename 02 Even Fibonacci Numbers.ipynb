{
 "cells": [
  {
   "cell_type": "code",
   "execution_count": 1,
   "metadata": {},
   "outputs": [
    {
     "name": "stdout",
     "output_type": "stream",
     "text": [
      "4613732\n"
     ]
    }
   ],
   "source": [
    "limit = 4000000\n",
    "#Returns the Sum of even Fibonacci numbers that are less than or equal to\n",
    "#the limit.\n",
    "def evenSum(limit):\n",
    "    if(limit< 2):\n",
    "        return 0\n",
    "    #First two even primes\n",
    "    num1 = 0\n",
    "    num2 = 2\n",
    "    summation = num1 + num2\n",
    "    #Calculating the sum\n",
    "    while(num2 <= limit):\n",
    "        #Move on to the next even value of FibSeq\n",
    "        num3 = 4 * num2 + num1\n",
    "        #Break if beyond limit\n",
    "        if(num3 > limit):\n",
    "            break\n",
    "        #Move on to the next even value of FibSeq    \n",
    "        num1 = num2 \n",
    "        num2 = num3\n",
    "        summation += num2\n",
    "    return summation\n",
    "print(evenSum(limit))"
   ]
  }
 ],
 "metadata": {
  "kernelspec": {
   "display_name": "Python 3",
   "language": "python",
   "name": "python3"
  },
  "language_info": {
   "codemirror_mode": {
    "name": "ipython",
    "version": 3
   },
   "file_extension": ".py",
   "mimetype": "text/x-python",
   "name": "python",
   "nbconvert_exporter": "python",
   "pygments_lexer": "ipython3",
   "version": "3.6.5"
  }
 },
 "nbformat": 4,
 "nbformat_minor": 2
}
